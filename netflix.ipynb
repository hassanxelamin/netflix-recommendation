{
 "cells": [
  {
   "cell_type": "markdown",
   "metadata": {},
   "source": [
    "# Import Required Libraries\n",
    "Import the necessary libraries, including pandas and os."
   ]
  },
  {
   "cell_type": "code",
   "execution_count": 3,
   "metadata": {},
   "outputs": [],
   "source": [
    "# Importing the pandas library for data manipulation and analysis\n",
    "import pandas as pd\n",
    "\n",
    "# Importing the os library for interacting with the operating system\n",
    "import os"
   ]
  },
  {
   "cell_type": "markdown",
   "metadata": {},
   "source": [
    "# Check if File Exists\n",
    "Use the os.path.isfile() function to check if the file 'data/dataset.csv' exists."
   ]
  },
  {
   "cell_type": "code",
   "execution_count": 11,
   "metadata": {},
   "outputs": [
    {
     "name": "stdout",
     "output_type": "stream",
     "text": [
      "Index(['id', 'title', 'genre', 'original_language', 'overview', 'popularity',\n",
      "       'release_date', 'vote_average', 'vote_count'],\n",
      "      dtype='object')\n"
     ]
    }
   ],
   "source": [
    "# Define the file path\n",
    "file_path = 'data/dataset.csv'\n",
    "\n",
    "# Use the os.path.isfile() function to check if the file exists\n",
    "if os.path.isfile(file_path):\n",
    "    df_movies = pd.read_csv(file_path)\n",
    "else:\n",
    "    print(\"File does not exist.\")"
   ]
  },
  {
   "cell_type": "markdown",
   "metadata": {},
   "source": [
    "## **Feature Selection**"
   ]
  },
  {
   "cell_type": "code",
   "execution_count": null,
   "metadata": {},
   "outputs": [],
   "source": [
    "# Create a slice and explicitly make a copy\n",
    "movies = df_movies[['id', 'title', 'overview', 'genre']].copy()\n",
    "\n",
    "# Now you can safely create a new column\n",
    "movies['tags'] = movies['overview'] + ' ' + movies['genre']\n",
    "\n",
    "new_movies_data = movies.drop(columns=['overview', 'genre'])"
   ]
  },
  {
   "cell_type": "markdown",
   "metadata": {},
   "source": [
    "## **Algos**"
   ]
  },
  {
   "cell_type": "code",
   "execution_count": 40,
   "metadata": {},
   "outputs": [
    {
     "name": "stdout",
     "output_type": "stream",
     "text": [
      "The Godfather\n",
      "1.0000000000000004\n",
      "-----------------------------------\n",
      "The Godfather: Part II\n",
      "0.4763305116224667\n",
      "-----------------------------------\n",
      "Blood Ties\n",
      "0.35634832254989923\n",
      "-----------------------------------\n",
      "Joker\n",
      "0.33946736991660215\n",
      "-----------------------------------\n",
      "Bomb City\n",
      "0.32732683535398854\n",
      "-----------------------------------\n"
     ]
    }
   ],
   "source": [
    "from sklearn.feature_extraction.text import CountVectorizer\n",
    "\n",
    "cv = CountVectorizer(max_features=10000, stop_words='english')\n",
    "\n",
    "vector = cv.fit_transform(new_movies_data['tags'].values.astype('U')).toarray()\n",
    "\n",
    "from sklearn.metrics.pairwise import cosine_similarity\n",
    "\n",
    "similarity = cosine_similarity(vector)\n",
    "\n",
    "def recommend(movie):\n",
    "    index = new_movies_data[new_movies_data[\"title\"] == movie].index[0]\n",
    "    distance = sorted(list(enumerate(similarity[index])), reverse=True, key=lambda vector: vector[1])\n",
    "    for i in distance[0:5]:\n",
    "        print(new_movies_data.iloc[i[0]]['title'])\n",
    "        print(i[1])\n",
    "        print('-----------------------------------')\n",
    "\n",
    "recommend(\"The Godfather\")\n",
    "\n"
   ]
  },
  {
   "cell_type": "code",
   "execution_count": null,
   "metadata": {},
   "outputs": [],
   "source": []
  }
 ],
 "metadata": {
  "kernelspec": {
   "display_name": "rocca",
   "language": "python",
   "name": "python3"
  },
  "language_info": {
   "codemirror_mode": {
    "name": "ipython",
    "version": 3
   },
   "file_extension": ".py",
   "mimetype": "text/x-python",
   "name": "python",
   "nbconvert_exporter": "python",
   "pygments_lexer": "ipython3",
   "version": "3.12.0"
  },
  "orig_nbformat": 4
 },
 "nbformat": 4,
 "nbformat_minor": 2
}
